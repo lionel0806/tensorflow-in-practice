{
  "nbformat": 4,
  "nbformat_minor": 0,
  "metadata": {
    "colab": {
      "name": "Natural Language Processing in Tensorflow.ipynb",
      "provenance": [],
      "collapsed_sections": [],
      "authorship_tag": "ABX9TyO338zyWUvuj6Fl6DqZpDKA",
      "include_colab_link": true
    },
    "kernelspec": {
      "name": "python3",
      "display_name": "Python 3"
    }
  },
  "cells": [
    {
      "cell_type": "markdown",
      "metadata": {
        "id": "view-in-github",
        "colab_type": "text"
      },
      "source": [
        "<a href=\"https://colab.research.google.com/github/lionel0806/tensorflow-in-practice/blob/main/Natural_Language_Processing_in_Tensorflow.ipynb\" target=\"_parent\"><img src=\"https://colab.research.google.com/assets/colab-badge.svg\" alt=\"Open In Colab\"/></a>"
      ]
    },
    {
      "cell_type": "code",
      "metadata": {
        "id": "eGClH_IKSNGu"
      },
      "source": [
        "import tensorflow as tf\n",
        "from tensorflow.keras.preprocessing.text import Tokenizer\n",
        "from tensorflow.keras.preprocessing.sequence import pad_sequences"
      ],
      "execution_count": null,
      "outputs": []
    },
    {
      "cell_type": "code",
      "metadata": {
        "id": "x7xUw_U6KWbE",
        "colab": {
          "base_uri": "https://localhost:8080/"
        },
        "outputId": "3423789d-4723-49c9-8c3d-be577ac3eafb"
      },
      "source": [
        "# sentences to sequences\n",
        "\n",
        "sentences = [\n",
        "    '我 喜 欢 狗',\n",
        "    '我 喜 欢 猫',\n",
        "    '你 喜 欢 什么？'------------\n",
        "]\n",
        "\n",
        "tokenizer = Tokenizer(num_words=100)\n",
        "tokenizer.fit_on_texts(sentences)\n",
        "index_word = tokenizer.index_word\n",
        "print(index_word)\n",
        "sequences = tokenizer.texts_to_sequences(sentences)\n",
        "print(sequences)"
      ],
      "execution_count": null,
      "outputs": [
        {
          "output_type": "stream",
          "text": [
            "{1: '喜', 2: '欢', 3: '我', 4: '狗', 5: '猫', 6: '你', 7: '什么？'}\n",
            "[[3, 1, 2, 4], [3, 1, 2, 5], [6, 1, 2, 7]]\n"
          ],
          "name": "stdout"
        }
      ]
    },
    {
      "cell_type": "code",
      "metadata": {
        "colab": {
          "base_uri": "https://localhost:8080/"
        },
        "id": "dCRVYfo6Lpjg",
        "outputId": "2be19c25-413b-492c-9be6-404cc81b66c5"
      },
      "source": [
        "sequences_pad = pad_sequences(sequences, maxlen=20, padding='post')\n",
        "print(sequences_pad)"
      ],
      "execution_count": null,
      "outputs": [
        {
          "output_type": "stream",
          "text": [
            "[[3 1 2 4 0 0 0 0 0 0 0 0 0 0 0 0 0 0 0 0]\n",
            " [3 1 2 5 0 0 0 0 0 0 0 0 0 0 0 0 0 0 0 0]\n",
            " [6 1 2 7 0 0 0 0 0 0 0 0 0 0 0 0 0 0 0 0]]\n"
          ],
          "name": "stdout"
        }
      ]
    },
    {
      "cell_type": "code",
      "metadata": {
        "id": "883whWH9MQ0v"
      },
      "source": [
        ""
      ],
      "execution_count": null,
      "outputs": []
    }
  ]
}